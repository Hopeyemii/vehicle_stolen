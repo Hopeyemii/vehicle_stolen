{
 "cells": [
  {
   "cell_type": "code",
   "execution_count": 1,
   "id": "b8d7af57",
   "metadata": {},
   "outputs": [],
   "source": [
    "#import the necessary library\n",
    "import numpy as np\n",
    "import pandas as pd\n",
    "import matplotlib.pyplot as plt\n",
    "import seaborn as sns\n",
    "%matplotlib inline\n",
    "pd.set_option('display.max_columns', None)"
   ]
  },
  {
   "cell_type": "code",
   "execution_count": 2,
   "id": "57abed29",
   "metadata": {},
   "outputs": [],
   "source": [
    "# loading the 'stolen_vehicle' data\n",
    "stolen_vehicle=pd.read_csv('stolen_vehicles.csv')"
   ]
  },
  {
   "cell_type": "code",
   "execution_count": 3,
   "id": "caaec956",
   "metadata": {},
   "outputs": [
    {
     "data": {
      "text/html": [
       "<div>\n",
       "<style scoped>\n",
       "    .dataframe tbody tr th:only-of-type {\n",
       "        vertical-align: middle;\n",
       "    }\n",
       "\n",
       "    .dataframe tbody tr th {\n",
       "        vertical-align: top;\n",
       "    }\n",
       "\n",
       "    .dataframe thead th {\n",
       "        text-align: right;\n",
       "    }\n",
       "</style>\n",
       "<table border=\"1\" class=\"dataframe\">\n",
       "  <thead>\n",
       "    <tr style=\"text-align: right;\">\n",
       "      <th></th>\n",
       "      <th>vehicle_id</th>\n",
       "      <th>vehicle_type</th>\n",
       "      <th>make_id</th>\n",
       "      <th>model_year</th>\n",
       "      <th>vehicle_desc</th>\n",
       "      <th>color</th>\n",
       "      <th>date_stolen</th>\n",
       "      <th>location_id</th>\n",
       "    </tr>\n",
       "  </thead>\n",
       "  <tbody>\n",
       "    <tr>\n",
       "      <th>0</th>\n",
       "      <td>1</td>\n",
       "      <td>Trailer</td>\n",
       "      <td>623.0</td>\n",
       "      <td>2021.0</td>\n",
       "      <td>BST2021D</td>\n",
       "      <td>Silver</td>\n",
       "      <td>11/5/21</td>\n",
       "      <td>102</td>\n",
       "    </tr>\n",
       "    <tr>\n",
       "      <th>1</th>\n",
       "      <td>2</td>\n",
       "      <td>Boat Trailer</td>\n",
       "      <td>623.0</td>\n",
       "      <td>2021.0</td>\n",
       "      <td>OUTBACK BOATS FT470</td>\n",
       "      <td>Silver</td>\n",
       "      <td>12/13/21</td>\n",
       "      <td>105</td>\n",
       "    </tr>\n",
       "    <tr>\n",
       "      <th>2</th>\n",
       "      <td>3</td>\n",
       "      <td>Boat Trailer</td>\n",
       "      <td>623.0</td>\n",
       "      <td>2021.0</td>\n",
       "      <td>ASD JETSKI</td>\n",
       "      <td>Silver</td>\n",
       "      <td>2/13/22</td>\n",
       "      <td>102</td>\n",
       "    </tr>\n",
       "    <tr>\n",
       "      <th>3</th>\n",
       "      <td>4</td>\n",
       "      <td>Trailer</td>\n",
       "      <td>623.0</td>\n",
       "      <td>2021.0</td>\n",
       "      <td>MSC 7X4</td>\n",
       "      <td>Silver</td>\n",
       "      <td>11/13/21</td>\n",
       "      <td>106</td>\n",
       "    </tr>\n",
       "    <tr>\n",
       "      <th>4</th>\n",
       "      <td>5</td>\n",
       "      <td>Trailer</td>\n",
       "      <td>623.0</td>\n",
       "      <td>2018.0</td>\n",
       "      <td>D-MAX 8X5</td>\n",
       "      <td>Silver</td>\n",
       "      <td>1/10/22</td>\n",
       "      <td>102</td>\n",
       "    </tr>\n",
       "  </tbody>\n",
       "</table>\n",
       "</div>"
      ],
      "text/plain": [
       "   vehicle_id  vehicle_type  make_id  model_year         vehicle_desc   color  \\\n",
       "0           1       Trailer    623.0      2021.0             BST2021D  Silver   \n",
       "1           2  Boat Trailer    623.0      2021.0  OUTBACK BOATS FT470  Silver   \n",
       "2           3  Boat Trailer    623.0      2021.0           ASD JETSKI  Silver   \n",
       "3           4       Trailer    623.0      2021.0              MSC 7X4  Silver   \n",
       "4           5       Trailer    623.0      2018.0            D-MAX 8X5  Silver   \n",
       "\n",
       "  date_stolen  location_id  \n",
       "0     11/5/21          102  \n",
       "1    12/13/21          105  \n",
       "2     2/13/22          102  \n",
       "3    11/13/21          106  \n",
       "4     1/10/22          102  "
      ]
     },
     "execution_count": 3,
     "metadata": {},
     "output_type": "execute_result"
    }
   ],
   "source": [
    "# reading the first few lines of stolen_vehicle table\n",
    "stolen_vehicle.head()"
   ]
  },
  {
   "cell_type": "code",
   "execution_count": 4,
   "id": "7b34f40e",
   "metadata": {},
   "outputs": [],
   "source": [
    "# loading the 'location' data\n",
    "location=pd.read_csv('locations.csv')"
   ]
  },
  {
   "cell_type": "code",
   "execution_count": 5,
   "id": "a3d4d226",
   "metadata": {},
   "outputs": [
    {
     "data": {
      "text/html": [
       "<div>\n",
       "<style scoped>\n",
       "    .dataframe tbody tr th:only-of-type {\n",
       "        vertical-align: middle;\n",
       "    }\n",
       "\n",
       "    .dataframe tbody tr th {\n",
       "        vertical-align: top;\n",
       "    }\n",
       "\n",
       "    .dataframe thead th {\n",
       "        text-align: right;\n",
       "    }\n",
       "</style>\n",
       "<table border=\"1\" class=\"dataframe\">\n",
       "  <thead>\n",
       "    <tr style=\"text-align: right;\">\n",
       "      <th></th>\n",
       "      <th>location_id</th>\n",
       "      <th>region</th>\n",
       "      <th>country</th>\n",
       "      <th>population</th>\n",
       "      <th>density</th>\n",
       "    </tr>\n",
       "  </thead>\n",
       "  <tbody>\n",
       "    <tr>\n",
       "      <th>0</th>\n",
       "      <td>101</td>\n",
       "      <td>Northland</td>\n",
       "      <td>New Zealand</td>\n",
       "      <td>201,500</td>\n",
       "      <td>16.11</td>\n",
       "    </tr>\n",
       "    <tr>\n",
       "      <th>1</th>\n",
       "      <td>102</td>\n",
       "      <td>Auckland</td>\n",
       "      <td>New Zealand</td>\n",
       "      <td>1,695,200</td>\n",
       "      <td>343.09</td>\n",
       "    </tr>\n",
       "    <tr>\n",
       "      <th>2</th>\n",
       "      <td>103</td>\n",
       "      <td>Waikato</td>\n",
       "      <td>New Zealand</td>\n",
       "      <td>513,800</td>\n",
       "      <td>21.50</td>\n",
       "    </tr>\n",
       "    <tr>\n",
       "      <th>3</th>\n",
       "      <td>104</td>\n",
       "      <td>Bay of Plenty</td>\n",
       "      <td>New Zealand</td>\n",
       "      <td>347,700</td>\n",
       "      <td>28.80</td>\n",
       "    </tr>\n",
       "    <tr>\n",
       "      <th>4</th>\n",
       "      <td>105</td>\n",
       "      <td>Gisborne</td>\n",
       "      <td>New Zealand</td>\n",
       "      <td>52,100</td>\n",
       "      <td>6.21</td>\n",
       "    </tr>\n",
       "  </tbody>\n",
       "</table>\n",
       "</div>"
      ],
      "text/plain": [
       "   location_id         region      country population  density\n",
       "0          101      Northland  New Zealand    201,500    16.11\n",
       "1          102       Auckland  New Zealand  1,695,200   343.09\n",
       "2          103        Waikato  New Zealand    513,800    21.50\n",
       "3          104  Bay of Plenty  New Zealand    347,700    28.80\n",
       "4          105       Gisborne  New Zealand     52,100     6.21"
      ]
     },
     "execution_count": 5,
     "metadata": {},
     "output_type": "execute_result"
    }
   ],
   "source": [
    "# reading the first few lines of location table\n",
    "location.head()"
   ]
  },
  {
   "cell_type": "code",
   "execution_count": 6,
   "id": "0f45dfd6",
   "metadata": {},
   "outputs": [],
   "source": [
    "# loading the 'make' data\n",
    "make=pd.read_csv('make_details.csv')"
   ]
  },
  {
   "cell_type": "code",
   "execution_count": 7,
   "id": "f853e8b2",
   "metadata": {},
   "outputs": [
    {
     "data": {
      "text/html": [
       "<div>\n",
       "<style scoped>\n",
       "    .dataframe tbody tr th:only-of-type {\n",
       "        vertical-align: middle;\n",
       "    }\n",
       "\n",
       "    .dataframe tbody tr th {\n",
       "        vertical-align: top;\n",
       "    }\n",
       "\n",
       "    .dataframe thead th {\n",
       "        text-align: right;\n",
       "    }\n",
       "</style>\n",
       "<table border=\"1\" class=\"dataframe\">\n",
       "  <thead>\n",
       "    <tr style=\"text-align: right;\">\n",
       "      <th></th>\n",
       "      <th>make_id</th>\n",
       "      <th>make_name</th>\n",
       "      <th>make_type</th>\n",
       "    </tr>\n",
       "  </thead>\n",
       "  <tbody>\n",
       "    <tr>\n",
       "      <th>0</th>\n",
       "      <td>501</td>\n",
       "      <td>Aakron Xpress</td>\n",
       "      <td>Standard</td>\n",
       "    </tr>\n",
       "    <tr>\n",
       "      <th>1</th>\n",
       "      <td>502</td>\n",
       "      <td>ADLY</td>\n",
       "      <td>Standard</td>\n",
       "    </tr>\n",
       "    <tr>\n",
       "      <th>2</th>\n",
       "      <td>503</td>\n",
       "      <td>Alpha</td>\n",
       "      <td>Standard</td>\n",
       "    </tr>\n",
       "    <tr>\n",
       "      <th>3</th>\n",
       "      <td>504</td>\n",
       "      <td>Anglo</td>\n",
       "      <td>Standard</td>\n",
       "    </tr>\n",
       "    <tr>\n",
       "      <th>4</th>\n",
       "      <td>505</td>\n",
       "      <td>Aprilia</td>\n",
       "      <td>Standard</td>\n",
       "    </tr>\n",
       "  </tbody>\n",
       "</table>\n",
       "</div>"
      ],
      "text/plain": [
       "   make_id      make_name make_type\n",
       "0      501  Aakron Xpress  Standard\n",
       "1      502           ADLY  Standard\n",
       "2      503          Alpha  Standard\n",
       "3      504          Anglo  Standard\n",
       "4      505        Aprilia  Standard"
      ]
     },
     "execution_count": 7,
     "metadata": {},
     "output_type": "execute_result"
    }
   ],
   "source": [
    "# reading the first few lines of location table\n",
    "make.head()"
   ]
  },
  {
   "cell_type": "markdown",
   "id": "0fe4ed17",
   "metadata": {},
   "source": [
    "# Assesing stolen_vehicle table"
   ]
  },
  {
   "cell_type": "code",
   "execution_count": 8,
   "id": "58da3f51",
   "metadata": {},
   "outputs": [
    {
     "data": {
      "text/plain": [
       "(4553, 8)"
      ]
     },
     "execution_count": 8,
     "metadata": {},
     "output_type": "execute_result"
    }
   ],
   "source": [
    "# checking for shape\n",
    "stolen_vehicle.shape"
   ]
  },
  {
   "cell_type": "code",
   "execution_count": 9,
   "id": "b9c7c34e",
   "metadata": {},
   "outputs": [
    {
     "data": {
      "text/plain": [
       "0"
      ]
     },
     "execution_count": 9,
     "metadata": {},
     "output_type": "execute_result"
    }
   ],
   "source": [
    "# checking for duplicates\n",
    "stolen_vehicle.duplicated().sum()"
   ]
  },
  {
   "cell_type": "code",
   "execution_count": 10,
   "id": "b82a53a4",
   "metadata": {},
   "outputs": [
    {
     "data": {
      "text/plain": [
       "Index(['vehicle_id', 'vehicle_type', 'make_id', 'model_year', 'vehicle_desc',\n",
       "       'color', 'date_stolen', 'location_id'],\n",
       "      dtype='object')"
      ]
     },
     "execution_count": 10,
     "metadata": {},
     "output_type": "execute_result"
    }
   ],
   "source": [
    "# checking colums name\n",
    "stolen_vehicle.columns"
   ]
  },
  {
   "cell_type": "code",
   "execution_count": 11,
   "id": "69819143",
   "metadata": {},
   "outputs": [
    {
     "data": {
      "text/plain": [
       "Stationwagon               945\n",
       "Saloon                     851\n",
       "Hatchback                  644\n",
       "Trailer                    582\n",
       "Utility                    466\n",
       "Roadbike                   297\n",
       "Moped                      187\n",
       "Light Van                  154\n",
       "Boat Trailer               105\n",
       "Trailer - Heavy             90\n",
       "Caravan                     44\n",
       "Other Truck                 42\n",
       "Sports Car                  40\n",
       "Flat Deck Truck             17\n",
       "Mobile Home - Light         15\n",
       "Convertible                 12\n",
       "Cab and Chassis Only         8\n",
       "Heavy Van                    7\n",
       "Light Bus                    6\n",
       "All Terrain Vehicle          5\n",
       "Tractor                      4\n",
       "Trail Bike                   2\n",
       "Mobile Machine               2\n",
       "Special Purpose Vehicle      1\n",
       "Articulated Truck            1\n",
       "Name: vehicle_type, dtype: int64"
      ]
     },
     "execution_count": 11,
     "metadata": {},
     "output_type": "execute_result"
    }
   ],
   "source": [
    "# value_counts on  vehicle_types\n",
    "stolen_vehicle['vehicle_type'].value_counts()"
   ]
  },
  {
   "cell_type": "code",
   "execution_count": 12,
   "id": "e3203f63",
   "metadata": {},
   "outputs": [
    {
     "data": {
      "text/plain": [
       "619.0    716\n",
       "623.0    543\n",
       "587.0    482\n",
       "576.0    433\n",
       "540.0    312\n",
       "        ... \n",
       "515.0      1\n",
       "552.0      1\n",
       "501.0      1\n",
       "628.0      1\n",
       "520.0      1\n",
       "Name: make_id, Length: 138, dtype: int64"
      ]
     },
     "execution_count": 12,
     "metadata": {},
     "output_type": "execute_result"
    }
   ],
   "source": [
    "# value_counts on make-id\n",
    "stolen_vehicle['make_id'].value_counts()"
   ]
  },
  {
   "cell_type": "code",
   "execution_count": 13,
   "id": "69bd1a20",
   "metadata": {},
   "outputs": [
    {
     "data": {
      "text/plain": [
       "2005.0    347\n",
       "2006.0    333\n",
       "2007.0    251\n",
       "2004.0    238\n",
       "2008.0    190\n",
       "         ... \n",
       "1962.0      1\n",
       "1943.0      1\n",
       "1968.0      1\n",
       "1940.0      1\n",
       "1965.0      1\n",
       "Name: model_year, Length: 63, dtype: int64"
      ]
     },
     "execution_count": 13,
     "metadata": {},
     "output_type": "execute_result"
    }
   ],
   "source": [
    "# value_counts on model_year\n",
    "stolen_vehicle['model_year'].value_counts()"
   ]
  },
  {
   "cell_type": "code",
   "execution_count": 14,
   "id": "21c96eda",
   "metadata": {},
   "outputs": [
    {
     "data": {
      "text/plain": [
       "Silver    1272\n",
       "White      934\n",
       "Black      589\n",
       "Blue       512\n",
       "Red        390\n",
       "Grey       378\n",
       "Green      224\n",
       "Gold        77\n",
       "Brown       49\n",
       "Yellow      39\n",
       "Orange      35\n",
       "Purple      26\n",
       "Cream        9\n",
       "Pink         4\n",
       "Name: color, dtype: int64"
      ]
     },
     "execution_count": 14,
     "metadata": {},
     "output_type": "execute_result"
    }
   ],
   "source": [
    "# value_counts on color\n",
    "stolen_vehicle['color'].value_counts()"
   ]
  },
  {
   "cell_type": "code",
   "execution_count": 15,
   "id": "9c801cd7",
   "metadata": {},
   "outputs": [
    {
     "data": {
      "text/plain": [
       "102    1638\n",
       "114     660\n",
       "104     446\n",
       "109     420\n",
       "103     371\n",
       "101     234\n",
       "105     176\n",
       "115     139\n",
       "108     139\n",
       "107     112\n",
       "106     100\n",
       "111      92\n",
       "116      26\n",
       "Name: location_id, dtype: int64"
      ]
     },
     "execution_count": 15,
     "metadata": {},
     "output_type": "execute_result"
    }
   ],
   "source": [
    "# value_counts on location_id\n",
    "stolen_vehicle['location_id'].value_counts()"
   ]
  },
  {
   "cell_type": "code",
   "execution_count": 16,
   "id": "83247618",
   "metadata": {},
   "outputs": [
    {
     "data": {
      "text/plain": [
       "vehicle_id       0\n",
       "vehicle_type    26\n",
       "make_id         15\n",
       "model_year      15\n",
       "vehicle_desc    33\n",
       "color           15\n",
       "date_stolen      0\n",
       "location_id      0\n",
       "dtype: int64"
      ]
     },
     "execution_count": 16,
     "metadata": {},
     "output_type": "execute_result"
    }
   ],
   "source": [
    "# checking for missing valus\n",
    "stolen_vehicle.isnull().sum()"
   ]
  },
  {
   "cell_type": "code",
   "execution_count": 17,
   "id": "9813d5ff",
   "metadata": {},
   "outputs": [
    {
     "data": {
      "text/plain": [
       "vehicle_id        int64\n",
       "vehicle_type     object\n",
       "make_id         float64\n",
       "model_year      float64\n",
       "vehicle_desc     object\n",
       "color            object\n",
       "date_stolen      object\n",
       "location_id       int64\n",
       "dtype: object"
      ]
     },
     "execution_count": 17,
     "metadata": {},
     "output_type": "execute_result"
    }
   ],
   "source": [
    "# checking for data type\n",
    "stolen_vehicle.dtypes"
   ]
  },
  {
   "cell_type": "code",
   "execution_count": 18,
   "id": "a20bc7e7",
   "metadata": {},
   "outputs": [],
   "source": [
    "# change the  the datatype of date to datetime\n",
    "stolen_vehicle['date'] = pd.to_datetime(stolen_vehicle['date_stolen'])"
   ]
  },
  {
   "cell_type": "markdown",
   "id": "f05a3536",
   "metadata": {},
   "source": [
    "#### Extraction"
   ]
  },
  {
   "cell_type": "code",
   "execution_count": 19,
   "id": "a4bf739d",
   "metadata": {},
   "outputs": [],
   "source": [
    "# extract year from the data\n",
    "stolen_vehicle['Year'] = stolen_vehicle['date'].dt.year"
   ]
  },
  {
   "cell_type": "code",
   "execution_count": 20,
   "id": "638ac9f0",
   "metadata": {},
   "outputs": [],
   "source": [
    "# extract months from the data\n",
    "stolen_vehicle['Month'] = stolen_vehicle['date'].dt.month"
   ]
  },
  {
   "cell_type": "code",
   "execution_count": 21,
   "id": "67da17b1",
   "metadata": {},
   "outputs": [],
   "source": [
    "# extract month name\n",
    "stolen_vehicle['Month name'] = stolen_vehicle['date'].dt.month_name()"
   ]
  },
  {
   "cell_type": "code",
   "execution_count": 22,
   "id": "8d155cea",
   "metadata": {},
   "outputs": [],
   "source": [
    "# extract day\n",
    "stolen_vehicle['Day'] = stolen_vehicle['date'].dt.day"
   ]
  },
  {
   "cell_type": "code",
   "execution_count": 23,
   "id": "3b6a06aa",
   "metadata": {},
   "outputs": [],
   "source": [
    "# extract weekday from the date\n",
    "stolen_vehicle['day_of_week'] =stolen_vehicle['date'].dt.day_name()"
   ]
  },
  {
   "cell_type": "code",
   "execution_count": 24,
   "id": "13822edc",
   "metadata": {},
   "outputs": [
    {
     "data": {
      "text/html": [
       "<div>\n",
       "<style scoped>\n",
       "    .dataframe tbody tr th:only-of-type {\n",
       "        vertical-align: middle;\n",
       "    }\n",
       "\n",
       "    .dataframe tbody tr th {\n",
       "        vertical-align: top;\n",
       "    }\n",
       "\n",
       "    .dataframe thead th {\n",
       "        text-align: right;\n",
       "    }\n",
       "</style>\n",
       "<table border=\"1\" class=\"dataframe\">\n",
       "  <thead>\n",
       "    <tr style=\"text-align: right;\">\n",
       "      <th></th>\n",
       "      <th>vehicle_id</th>\n",
       "      <th>vehicle_type</th>\n",
       "      <th>make_id</th>\n",
       "      <th>model_year</th>\n",
       "      <th>vehicle_desc</th>\n",
       "      <th>color</th>\n",
       "      <th>date_stolen</th>\n",
       "      <th>location_id</th>\n",
       "      <th>date</th>\n",
       "      <th>Year</th>\n",
       "      <th>Month</th>\n",
       "      <th>Month name</th>\n",
       "      <th>Day</th>\n",
       "      <th>day_of_week</th>\n",
       "    </tr>\n",
       "  </thead>\n",
       "  <tbody>\n",
       "    <tr>\n",
       "      <th>0</th>\n",
       "      <td>1</td>\n",
       "      <td>Trailer</td>\n",
       "      <td>623.0</td>\n",
       "      <td>2021.0</td>\n",
       "      <td>BST2021D</td>\n",
       "      <td>Silver</td>\n",
       "      <td>11/5/21</td>\n",
       "      <td>102</td>\n",
       "      <td>2021-11-05</td>\n",
       "      <td>2021</td>\n",
       "      <td>11</td>\n",
       "      <td>November</td>\n",
       "      <td>5</td>\n",
       "      <td>Friday</td>\n",
       "    </tr>\n",
       "    <tr>\n",
       "      <th>1</th>\n",
       "      <td>2</td>\n",
       "      <td>Boat Trailer</td>\n",
       "      <td>623.0</td>\n",
       "      <td>2021.0</td>\n",
       "      <td>OUTBACK BOATS FT470</td>\n",
       "      <td>Silver</td>\n",
       "      <td>12/13/21</td>\n",
       "      <td>105</td>\n",
       "      <td>2021-12-13</td>\n",
       "      <td>2021</td>\n",
       "      <td>12</td>\n",
       "      <td>December</td>\n",
       "      <td>13</td>\n",
       "      <td>Monday</td>\n",
       "    </tr>\n",
       "    <tr>\n",
       "      <th>2</th>\n",
       "      <td>3</td>\n",
       "      <td>Boat Trailer</td>\n",
       "      <td>623.0</td>\n",
       "      <td>2021.0</td>\n",
       "      <td>ASD JETSKI</td>\n",
       "      <td>Silver</td>\n",
       "      <td>2/13/22</td>\n",
       "      <td>102</td>\n",
       "      <td>2022-02-13</td>\n",
       "      <td>2022</td>\n",
       "      <td>2</td>\n",
       "      <td>February</td>\n",
       "      <td>13</td>\n",
       "      <td>Sunday</td>\n",
       "    </tr>\n",
       "    <tr>\n",
       "      <th>3</th>\n",
       "      <td>4</td>\n",
       "      <td>Trailer</td>\n",
       "      <td>623.0</td>\n",
       "      <td>2021.0</td>\n",
       "      <td>MSC 7X4</td>\n",
       "      <td>Silver</td>\n",
       "      <td>11/13/21</td>\n",
       "      <td>106</td>\n",
       "      <td>2021-11-13</td>\n",
       "      <td>2021</td>\n",
       "      <td>11</td>\n",
       "      <td>November</td>\n",
       "      <td>13</td>\n",
       "      <td>Saturday</td>\n",
       "    </tr>\n",
       "    <tr>\n",
       "      <th>4</th>\n",
       "      <td>5</td>\n",
       "      <td>Trailer</td>\n",
       "      <td>623.0</td>\n",
       "      <td>2018.0</td>\n",
       "      <td>D-MAX 8X5</td>\n",
       "      <td>Silver</td>\n",
       "      <td>1/10/22</td>\n",
       "      <td>102</td>\n",
       "      <td>2022-01-10</td>\n",
       "      <td>2022</td>\n",
       "      <td>1</td>\n",
       "      <td>January</td>\n",
       "      <td>10</td>\n",
       "      <td>Monday</td>\n",
       "    </tr>\n",
       "  </tbody>\n",
       "</table>\n",
       "</div>"
      ],
      "text/plain": [
       "   vehicle_id  vehicle_type  make_id  model_year         vehicle_desc   color  \\\n",
       "0           1       Trailer    623.0      2021.0             BST2021D  Silver   \n",
       "1           2  Boat Trailer    623.0      2021.0  OUTBACK BOATS FT470  Silver   \n",
       "2           3  Boat Trailer    623.0      2021.0           ASD JETSKI  Silver   \n",
       "3           4       Trailer    623.0      2021.0              MSC 7X4  Silver   \n",
       "4           5       Trailer    623.0      2018.0            D-MAX 8X5  Silver   \n",
       "\n",
       "  date_stolen  location_id       date  Year  Month Month name  Day day_of_week  \n",
       "0     11/5/21          102 2021-11-05  2021     11   November    5      Friday  \n",
       "1    12/13/21          105 2021-12-13  2021     12   December   13      Monday  \n",
       "2     2/13/22          102 2022-02-13  2022      2   February   13      Sunday  \n",
       "3    11/13/21          106 2021-11-13  2021     11   November   13    Saturday  \n",
       "4     1/10/22          102 2022-01-10  2022      1    January   10      Monday  "
      ]
     },
     "execution_count": 24,
     "metadata": {},
     "output_type": "execute_result"
    }
   ],
   "source": [
    "# recheck the first few line of the table\n",
    "stolen_vehicle.head()"
   ]
  },
  {
   "cell_type": "markdown",
   "id": "7955bd26",
   "metadata": {},
   "source": [
    "#  Assessing location table "
   ]
  },
  {
   "cell_type": "code",
   "execution_count": 25,
   "id": "3173c6e1",
   "metadata": {},
   "outputs": [
    {
     "data": {
      "text/plain": [
       "(16, 5)"
      ]
     },
     "execution_count": 25,
     "metadata": {},
     "output_type": "execute_result"
    }
   ],
   "source": [
    "#  checking shape of the data\n",
    "location.shape"
   ]
  },
  {
   "cell_type": "code",
   "execution_count": 26,
   "id": "12d00c75",
   "metadata": {},
   "outputs": [
    {
     "data": {
      "text/plain": [
       "0"
      ]
     },
     "execution_count": 26,
     "metadata": {},
     "output_type": "execute_result"
    }
   ],
   "source": [
    "# checking duplicate value\n",
    "location.duplicated().sum()"
   ]
  },
  {
   "cell_type": "code",
   "execution_count": 27,
   "id": "75ba557c",
   "metadata": {},
   "outputs": [
    {
     "data": {
      "text/plain": [
       "location_id    0\n",
       "region         0\n",
       "country        0\n",
       "population     0\n",
       "density        0\n",
       "dtype: int64"
      ]
     },
     "execution_count": 27,
     "metadata": {},
     "output_type": "execute_result"
    }
   ],
   "source": [
    "# checking for missing values\n",
    "location.isnull().sum()"
   ]
  },
  {
   "cell_type": "code",
   "execution_count": 28,
   "id": "ac8768c4",
   "metadata": {},
   "outputs": [
    {
     "data": {
      "text/plain": [
       "location_id      int64\n",
       "region          object\n",
       "country         object\n",
       "population      object\n",
       "density        float64\n",
       "dtype: object"
      ]
     },
     "execution_count": 28,
     "metadata": {},
     "output_type": "execute_result"
    }
   ],
   "source": [
    "# checking for data type\n",
    "location.dtypes"
   ]
  },
  {
   "cell_type": "code",
   "execution_count": 29,
   "id": "42d97168",
   "metadata": {},
   "outputs": [
    {
     "data": {
      "text/plain": [
       "Index(['location_id', 'region', 'country', 'population', 'density'], dtype='object')"
      ]
     },
     "execution_count": 29,
     "metadata": {},
     "output_type": "execute_result"
    }
   ],
   "source": [
    "location.columns"
   ]
  },
  {
   "cell_type": "markdown",
   "id": "3ffd007c",
   "metadata": {},
   "source": [
    "# Assessing make table"
   ]
  },
  {
   "cell_type": "code",
   "execution_count": 30,
   "id": "1ab01474",
   "metadata": {},
   "outputs": [
    {
     "data": {
      "text/plain": [
       "(138, 3)"
      ]
     },
     "execution_count": 30,
     "metadata": {},
     "output_type": "execute_result"
    }
   ],
   "source": [
    "# checking for shape\n",
    "make.shape"
   ]
  },
  {
   "cell_type": "code",
   "execution_count": 31,
   "id": "2b3e9b9c",
   "metadata": {},
   "outputs": [
    {
     "data": {
      "text/plain": [
       "0"
      ]
     },
     "execution_count": 31,
     "metadata": {},
     "output_type": "execute_result"
    }
   ],
   "source": [
    "# checking for duplicate value\n",
    "make.duplicated().sum()"
   ]
  },
  {
   "cell_type": "code",
   "execution_count": 32,
   "id": "76d29997",
   "metadata": {},
   "outputs": [
    {
     "data": {
      "text/plain": [
       "make_id      0\n",
       "make_name    0\n",
       "make_type    0\n",
       "dtype: int64"
      ]
     },
     "execution_count": 32,
     "metadata": {},
     "output_type": "execute_result"
    }
   ],
   "source": [
    "# checking for missing values\n",
    "make.isna().sum()"
   ]
  },
  {
   "cell_type": "code",
   "execution_count": 33,
   "id": "95cf3160",
   "metadata": {},
   "outputs": [
    {
     "data": {
      "text/plain": [
       "make_id       int64\n",
       "make_name    object\n",
       "make_type    object\n",
       "dtype: object"
      ]
     },
     "execution_count": 33,
     "metadata": {},
     "output_type": "execute_result"
    }
   ],
   "source": [
    "# checking for data type\n",
    "make.dtypes"
   ]
  },
  {
   "cell_type": "code",
   "execution_count": 34,
   "id": "3f3d879d",
   "metadata": {},
   "outputs": [
    {
     "data": {
      "text/plain": [
       "Index(['make_id', 'make_name', 'make_type'], dtype='object')"
      ]
     },
     "execution_count": 34,
     "metadata": {},
     "output_type": "execute_result"
    }
   ],
   "source": [
    "# checking make column\n",
    "make.columns"
   ]
  },
  {
   "cell_type": "markdown",
   "id": "02f471ba",
   "metadata": {},
   "source": [
    "# Combining the dataset"
   ]
  },
  {
   "cell_type": "code",
   "execution_count": 35,
   "id": "0fc533e4",
   "metadata": {},
   "outputs": [],
   "source": [
    "# merging the file together\n",
    "merge_data=stolen_vehicle.merge(location,  on='location_id',  how='left').merge(make, on='make_id', how='left')"
   ]
  },
  {
   "cell_type": "code",
   "execution_count": 36,
   "id": "95352230",
   "metadata": {},
   "outputs": [
    {
     "data": {
      "text/plain": [
       "vehicle_id       0\n",
       "vehicle_type    26\n",
       "make_id         15\n",
       "model_year      15\n",
       "vehicle_desc    33\n",
       "color           15\n",
       "date_stolen      0\n",
       "location_id      0\n",
       "date             0\n",
       "Year             0\n",
       "Month            0\n",
       "Month name       0\n",
       "Day              0\n",
       "day_of_week      0\n",
       "region           0\n",
       "country          0\n",
       "population       0\n",
       "density          0\n",
       "make_name       15\n",
       "make_type       15\n",
       "dtype: int64"
      ]
     },
     "execution_count": 36,
     "metadata": {},
     "output_type": "execute_result"
    }
   ],
   "source": [
    "# checking for missing value\n",
    "merge_data.isnull().sum()"
   ]
  },
  {
   "cell_type": "code",
   "execution_count": 37,
   "id": "e96e43c6",
   "metadata": {},
   "outputs": [],
   "source": [
    "# dealing with missing value\n",
    "merge_data['vehicle_type'].fillna(\"unknown\", inplace=True)\n",
    "merge_data['make_id'].fillna(\"unknown\", inplace=True)\n",
    "merge_data['model_year'].fillna(\"unknown\", inplace=True)\n",
    "merge_data['vehicle_desc'].fillna(\"no info\", inplace=True)\n",
    "merge_data['color'].fillna(\"no  info\", inplace=True)\n",
    "merge_data['make_name'].fillna(\"no info\", inplace=True)\n",
    "merge_data['make_type'].fillna(\"no info\", inplace=True)"
   ]
  },
  {
   "cell_type": "code",
   "execution_count": 38,
   "id": "d5f1deee",
   "metadata": {},
   "outputs": [
    {
     "data": {
      "text/plain": [
       "vehicle_id      0\n",
       "vehicle_type    0\n",
       "make_id         0\n",
       "model_year      0\n",
       "vehicle_desc    0\n",
       "color           0\n",
       "date_stolen     0\n",
       "location_id     0\n",
       "date            0\n",
       "Year            0\n",
       "Month           0\n",
       "Month name      0\n",
       "Day             0\n",
       "day_of_week     0\n",
       "region          0\n",
       "country         0\n",
       "population      0\n",
       "density         0\n",
       "make_name       0\n",
       "make_type       0\n",
       "dtype: int64"
      ]
     },
     "execution_count": 38,
     "metadata": {},
     "output_type": "execute_result"
    }
   ],
   "source": [
    "# recheck the columns for missing value\n",
    "merge_data.isnull().sum()"
   ]
  },
  {
   "cell_type": "code",
   "execution_count": 39,
   "id": "8f896d0a",
   "metadata": {},
   "outputs": [
    {
     "data": {
      "text/plain": [
       "vehicle_id               int64\n",
       "vehicle_type            object\n",
       "make_id                 object\n",
       "model_year              object\n",
       "vehicle_desc            object\n",
       "color                   object\n",
       "date_stolen             object\n",
       "location_id              int64\n",
       "date            datetime64[ns]\n",
       "Year                     int64\n",
       "Month                    int64\n",
       "Month name              object\n",
       "Day                      int64\n",
       "day_of_week             object\n",
       "region                  object\n",
       "country                 object\n",
       "population              object\n",
       "density                float64\n",
       "make_name               object\n",
       "make_type               object\n",
       "dtype: object"
      ]
     },
     "execution_count": 39,
     "metadata": {},
     "output_type": "execute_result"
    }
   ],
   "source": [
    "# checking the data type\n",
    "merge_data.dtypes"
   ]
  },
  {
   "cell_type": "code",
   "execution_count": 40,
   "id": "637edec2",
   "metadata": {},
   "outputs": [
    {
     "data": {
      "text/plain": [
       "(4553, 20)"
      ]
     },
     "execution_count": 40,
     "metadata": {},
     "output_type": "execute_result"
    }
   ],
   "source": [
    "# checking the shape\n",
    "merge_data.shape"
   ]
  },
  {
   "cell_type": "code",
   "execution_count": 41,
   "id": "986e4131",
   "metadata": {},
   "outputs": [
    {
     "data": {
      "text/html": [
       "<div>\n",
       "<style scoped>\n",
       "    .dataframe tbody tr th:only-of-type {\n",
       "        vertical-align: middle;\n",
       "    }\n",
       "\n",
       "    .dataframe tbody tr th {\n",
       "        vertical-align: top;\n",
       "    }\n",
       "\n",
       "    .dataframe thead th {\n",
       "        text-align: right;\n",
       "    }\n",
       "</style>\n",
       "<table border=\"1\" class=\"dataframe\">\n",
       "  <thead>\n",
       "    <tr style=\"text-align: right;\">\n",
       "      <th></th>\n",
       "      <th>vehicle_id</th>\n",
       "      <th>vehicle_type</th>\n",
       "      <th>make_id</th>\n",
       "      <th>model_year</th>\n",
       "      <th>vehicle_desc</th>\n",
       "      <th>color</th>\n",
       "      <th>date_stolen</th>\n",
       "      <th>location_id</th>\n",
       "      <th>date</th>\n",
       "      <th>Year</th>\n",
       "      <th>Month</th>\n",
       "      <th>Month name</th>\n",
       "      <th>Day</th>\n",
       "      <th>day_of_week</th>\n",
       "      <th>region</th>\n",
       "      <th>country</th>\n",
       "      <th>population</th>\n",
       "      <th>density</th>\n",
       "      <th>make_name</th>\n",
       "      <th>make_type</th>\n",
       "    </tr>\n",
       "  </thead>\n",
       "  <tbody>\n",
       "    <tr>\n",
       "      <th>0</th>\n",
       "      <td>1</td>\n",
       "      <td>Trailer</td>\n",
       "      <td>623.0</td>\n",
       "      <td>2021.0</td>\n",
       "      <td>BST2021D</td>\n",
       "      <td>Silver</td>\n",
       "      <td>11/5/21</td>\n",
       "      <td>102</td>\n",
       "      <td>2021-11-05</td>\n",
       "      <td>2021</td>\n",
       "      <td>11</td>\n",
       "      <td>November</td>\n",
       "      <td>5</td>\n",
       "      <td>Friday</td>\n",
       "      <td>Auckland</td>\n",
       "      <td>New Zealand</td>\n",
       "      <td>1,695,200</td>\n",
       "      <td>343.09</td>\n",
       "      <td>Trailer</td>\n",
       "      <td>Standard</td>\n",
       "    </tr>\n",
       "    <tr>\n",
       "      <th>1</th>\n",
       "      <td>2</td>\n",
       "      <td>Boat Trailer</td>\n",
       "      <td>623.0</td>\n",
       "      <td>2021.0</td>\n",
       "      <td>OUTBACK BOATS FT470</td>\n",
       "      <td>Silver</td>\n",
       "      <td>12/13/21</td>\n",
       "      <td>105</td>\n",
       "      <td>2021-12-13</td>\n",
       "      <td>2021</td>\n",
       "      <td>12</td>\n",
       "      <td>December</td>\n",
       "      <td>13</td>\n",
       "      <td>Monday</td>\n",
       "      <td>Gisborne</td>\n",
       "      <td>New Zealand</td>\n",
       "      <td>52,100</td>\n",
       "      <td>6.21</td>\n",
       "      <td>Trailer</td>\n",
       "      <td>Standard</td>\n",
       "    </tr>\n",
       "    <tr>\n",
       "      <th>2</th>\n",
       "      <td>3</td>\n",
       "      <td>Boat Trailer</td>\n",
       "      <td>623.0</td>\n",
       "      <td>2021.0</td>\n",
       "      <td>ASD JETSKI</td>\n",
       "      <td>Silver</td>\n",
       "      <td>2/13/22</td>\n",
       "      <td>102</td>\n",
       "      <td>2022-02-13</td>\n",
       "      <td>2022</td>\n",
       "      <td>2</td>\n",
       "      <td>February</td>\n",
       "      <td>13</td>\n",
       "      <td>Sunday</td>\n",
       "      <td>Auckland</td>\n",
       "      <td>New Zealand</td>\n",
       "      <td>1,695,200</td>\n",
       "      <td>343.09</td>\n",
       "      <td>Trailer</td>\n",
       "      <td>Standard</td>\n",
       "    </tr>\n",
       "    <tr>\n",
       "      <th>3</th>\n",
       "      <td>4</td>\n",
       "      <td>Trailer</td>\n",
       "      <td>623.0</td>\n",
       "      <td>2021.0</td>\n",
       "      <td>MSC 7X4</td>\n",
       "      <td>Silver</td>\n",
       "      <td>11/13/21</td>\n",
       "      <td>106</td>\n",
       "      <td>2021-11-13</td>\n",
       "      <td>2021</td>\n",
       "      <td>11</td>\n",
       "      <td>November</td>\n",
       "      <td>13</td>\n",
       "      <td>Saturday</td>\n",
       "      <td>Hawke's Bay</td>\n",
       "      <td>New Zealand</td>\n",
       "      <td>182,700</td>\n",
       "      <td>12.92</td>\n",
       "      <td>Trailer</td>\n",
       "      <td>Standard</td>\n",
       "    </tr>\n",
       "    <tr>\n",
       "      <th>4</th>\n",
       "      <td>5</td>\n",
       "      <td>Trailer</td>\n",
       "      <td>623.0</td>\n",
       "      <td>2018.0</td>\n",
       "      <td>D-MAX 8X5</td>\n",
       "      <td>Silver</td>\n",
       "      <td>1/10/22</td>\n",
       "      <td>102</td>\n",
       "      <td>2022-01-10</td>\n",
       "      <td>2022</td>\n",
       "      <td>1</td>\n",
       "      <td>January</td>\n",
       "      <td>10</td>\n",
       "      <td>Monday</td>\n",
       "      <td>Auckland</td>\n",
       "      <td>New Zealand</td>\n",
       "      <td>1,695,200</td>\n",
       "      <td>343.09</td>\n",
       "      <td>Trailer</td>\n",
       "      <td>Standard</td>\n",
       "    </tr>\n",
       "  </tbody>\n",
       "</table>\n",
       "</div>"
      ],
      "text/plain": [
       "   vehicle_id  vehicle_type make_id model_year         vehicle_desc   color  \\\n",
       "0           1       Trailer   623.0     2021.0             BST2021D  Silver   \n",
       "1           2  Boat Trailer   623.0     2021.0  OUTBACK BOATS FT470  Silver   \n",
       "2           3  Boat Trailer   623.0     2021.0           ASD JETSKI  Silver   \n",
       "3           4       Trailer   623.0     2021.0              MSC 7X4  Silver   \n",
       "4           5       Trailer   623.0     2018.0            D-MAX 8X5  Silver   \n",
       "\n",
       "  date_stolen  location_id       date  Year  Month Month name  Day  \\\n",
       "0     11/5/21          102 2021-11-05  2021     11   November    5   \n",
       "1    12/13/21          105 2021-12-13  2021     12   December   13   \n",
       "2     2/13/22          102 2022-02-13  2022      2   February   13   \n",
       "3    11/13/21          106 2021-11-13  2021     11   November   13   \n",
       "4     1/10/22          102 2022-01-10  2022      1    January   10   \n",
       "\n",
       "  day_of_week       region      country population  density make_name  \\\n",
       "0      Friday     Auckland  New Zealand  1,695,200   343.09   Trailer   \n",
       "1      Monday     Gisborne  New Zealand     52,100     6.21   Trailer   \n",
       "2      Sunday     Auckland  New Zealand  1,695,200   343.09   Trailer   \n",
       "3    Saturday  Hawke's Bay  New Zealand    182,700    12.92   Trailer   \n",
       "4      Monday     Auckland  New Zealand  1,695,200   343.09   Trailer   \n",
       "\n",
       "  make_type  \n",
       "0  Standard  \n",
       "1  Standard  \n",
       "2  Standard  \n",
       "3  Standard  \n",
       "4  Standard  "
      ]
     },
     "execution_count": 41,
     "metadata": {},
     "output_type": "execute_result"
    }
   ],
   "source": [
    "merge_data.head()"
   ]
  },
  {
   "cell_type": "code",
   "execution_count": 42,
   "id": "89b1d3f0",
   "metadata": {},
   "outputs": [
    {
     "data": {
      "text/plain": [
       "array(['New Zealand'], dtype=object)"
      ]
     },
     "execution_count": 42,
     "metadata": {},
     "output_type": "execute_result"
    }
   ],
   "source": [
    "# checking the country name\n",
    "merge_data['country'].unique()"
   ]
  },
  {
   "cell_type": "code",
   "execution_count": 43,
   "id": "4be97656",
   "metadata": {},
   "outputs": [
    {
     "name": "stdout",
     "output_type": "stream",
     "text": [
      "   Year  total_population\n",
      "0  2021              1668\n",
      "1  2022              2885\n"
     ]
    }
   ],
   "source": [
    "# total population \n",
    "population=merge_data.groupby(['Year'], as_index=False).agg(total_population=('population', 'count'))\n",
    "print(population)"
   ]
  },
  {
   "cell_type": "code",
   "execution_count": 44,
   "id": "64347477",
   "metadata": {},
   "outputs": [
    {
     "data": {
      "text/plain": [
       "13"
      ]
     },
     "execution_count": 44,
     "metadata": {},
     "output_type": "execute_result"
    }
   ],
   "source": [
    "# checking total number of region\n",
    "merge_data['region'].nunique()"
   ]
  },
  {
   "cell_type": "code",
   "execution_count": 45,
   "id": "6a10b436",
   "metadata": {},
   "outputs": [
    {
     "name": "stdout",
     "output_type": "stream",
     "text": [
      "                region  total_vehicle\n",
      "0             Auckland           1638\n",
      "2           Canterbury            660\n",
      "1        Bay of Plenty            446\n",
      "12          Wellington            420\n",
      "11             Waikato            371\n",
      "7            Northland            234\n",
      "3             Gisborne            176\n",
      "5   Manawatū-Whanganui            139\n",
      "8                Otago            139\n",
      "10            Taranaki            112\n",
      "4          Hawke's Bay            100\n",
      "6               Nelson             92\n",
      "9            Southland             26\n"
     ]
    }
   ],
   "source": [
    "# checking region with with highest theft vehicle\n",
    "region=merge_data.groupby(['region'], as_index=False).agg(\n",
    "    total_vehicle=('vehicle_id', 'count')).sort_values(['total_vehicle'], ascending= [False])\n",
    "print(region)"
   ]
  },
  {
   "cell_type": "code",
   "execution_count": 46,
   "id": "382f1b96",
   "metadata": {},
   "outputs": [
    {
     "data": {
      "text/plain": [
       "<Axes: xlabel='total_vehicle', ylabel='region'>"
      ]
     },
     "execution_count": 46,
     "metadata": {},
     "output_type": "execute_result"
    },
    {
     "data": {
      "image/png": "[encoded data removed]",
      "text/plain": [
       "<Figure size 600x600 with 1 Axes>"
      ]
     },
     "metadata": {},
     "output_type": "display_data"
    }
   ],
   "source": [
    "plt.figure(figsize=[6,6])\n",
    "sns.barplot(data=region, x='total_vehicle', y='region')"
   ]
  },
  {
   "cell_type": "markdown",
   "id": "c7781800",
   "metadata": {},
   "source": [
    "###  Auckland is the region with highest theft vehicle"
   ]
  },
  {
   "cell_type": "code",
   "execution_count": 47,
   "id": "42ba2172",
   "metadata": {},
   "outputs": [
    {
     "name": "stdout",
     "output_type": "stream",
     "text": [
      "                region population  total_vehicle\n",
      "0             Auckland  1,695,200           1638\n",
      "2           Canterbury    655,000            660\n",
      "1        Bay of Plenty    347,700            446\n",
      "12          Wellington    543,500            420\n",
      "11             Waikato    513,800            371\n",
      "7            Northland    201,500            234\n",
      "3             Gisborne     52,100            176\n",
      "5   Manawatū-Whanganui    258,200            139\n",
      "8                Otago    246,000            139\n",
      "10            Taranaki    127,300            112\n",
      "4          Hawke's Bay    182,700            100\n",
      "6               Nelson     54,500             92\n",
      "9            Southland    102,400             26\n"
     ]
    }
   ],
   "source": [
    "# relationship between region, population and total_vehicle theft\n",
    "population=merge_data.groupby(['region', 'population'], as_index=False).agg(\n",
    "    total_vehicle=('vehicle_id','count')).sort_values(['total_vehicle'], ascending=[False])\n",
    "print(population)"
   ]
  },
  {
   "cell_type": "code",
   "execution_count": 48,
   "id": "4160d489",
   "metadata": {},
   "outputs": [
    {
     "data": {
      "text/plain": [
       "<Axes: xlabel='total_vehicle', ylabel='population'>"
      ]
     },
     "execution_count": 48,
     "metadata": {},
     "output_type": "execute_result"
    },
    {
     "data": {
      "image/png": "[encoded data removed]",
      "text/plain": [
       "<Figure size 800x500 with 1 Axes>"
      ]
     },
     "metadata": {},
     "output_type": "display_data"
    }
   ],
   "source": [
    "plt.figure(figsize=[8,5])\n",
    "sns.scatterplot(data=population, x='total_vehicle', y='population', hue='region')"
   ]
  },
  {
   "cell_type": "markdown",
   "id": "a17918fc",
   "metadata": {},
   "source": [
    "#### The most populated region 'Auckland' have highest vehicle theft\n",
    " \n",
    "Please sir which other better method to check for this"
   ]
  },
  {
   "cell_type": "code",
   "execution_count": 49,
   "id": "57abe457",
   "metadata": {},
   "outputs": [
    {
     "name": "stdout",
     "output_type": "stream",
     "text": [
      "   Year  Month Month name  total_vehicle\n",
      "0  2021     10    October            464\n",
      "1  2021     11   November            560\n",
      "2  2021     12   December            644\n",
      "3  2022      1    January            740\n",
      "4  2022      2   February            763\n",
      "5  2022      3      March           1053\n",
      "6  2022      4      April            329\n"
     ]
    },
    {
     "data": {
      "text/plain": [
       "<Axes: xlabel='Month name', ylabel='total_vehicle'>"
      ]
     },
     "execution_count": 49,
     "metadata": {},
     "output_type": "execute_result"
    },
    {
     "data": {
      "image/png": "[encoded data removed]",
      "text/plain": [
       "<Figure size 800x500 with 1 Axes>"
      ]
     },
     "metadata": {},
     "output_type": "display_data"
    }
   ],
   "source": [
    "# checking month with highest vehicle theft\n",
    "monthly_trend=merge_data.groupby(['Year','Month', 'Month name'],as_index=False).agg(\n",
    "    total_vehicle=('vehicle_id','count')).sort_values(['Year','Month'],ascending=[True,True])\n",
    "print(monthly_trend)\n",
    "\n",
    "plt.figure(figsize=[8,5])\n",
    "sns.barplot(data=monthly_trend, x='Month name', y='total_vehicle', hue='Year', palette='Reds')"
   ]
  },
  {
   "cell_type": "markdown",
   "id": "9af7e7b8",
   "metadata": {},
   "source": [
    "#### There  is increase in vehicle theft every month  and march 2022 is the month with highest vehicle theft"
   ]
  },
  {
   "cell_type": "code",
   "execution_count": 50,
   "id": "a797a0e3",
   "metadata": {},
   "outputs": [
    {
     "name": "stdout",
     "output_type": "stream",
     "text": [
      "  day_of_week  total_vehicle\n",
      "1      Monday            767\n",
      "5     Tuesday            711\n",
      "0      Friday            655\n",
      "6   Wednesday            629\n",
      "4    Thursday            619\n",
      "3      Sunday            595\n",
      "2    Saturday            577\n"
     ]
    },
    {
     "data": {
      "text/plain": [
       "<Axes: xlabel='day_of_week', ylabel='total_vehicle'>"
      ]
     },
     "execution_count": 50,
     "metadata": {},
     "output_type": "execute_result"
    },
    {
     "data": {
      "image/png": "[encoded data removed]",
      "text/plain": [
       "<Figure size 800x500 with 1 Axes>"
      ]
     },
     "metadata": {},
     "output_type": "display_data"
    }
   ],
   "source": [
    "#  checking for day with highest  vehicle theft\n",
    "daily_trend=merge_data.groupby(['day_of_week'], as_index=False).agg(\n",
    "    total_vehicle=('vehicle_id','count')).sort_values(['total_vehicle'],ascending=[False])\n",
    "print(daily_trend)\n",
    "\n",
    "plt.figure(figsize=[8,5])\n",
    "sns.barplot(data=daily_trend, x='day_of_week', y='total_vehicle',  palette='Greens')"
   ]
  },
  {
   "cell_type": "markdown",
   "id": "ec8f77ad",
   "metadata": {},
   "source": [
    "#### Most vehicle are theft on Monday and Tuesday "
   ]
  },
  {
   "cell_type": "code",
   "execution_count": 51,
   "id": "2a44d9d6",
   "metadata": {},
   "outputs": [
    {
     "name": "stdout",
     "output_type": "stream",
     "text": [
      "    make_name  total_vehicle\n",
      "118    Toyota            716\n",
      "122   Trailer            543\n",
      "86     Nissan            482\n",
      "76      Mazda            433\n",
      "40       Ford            312\n"
     ]
    }
   ],
   "source": [
    "# checking the most theft vehicle name\n",
    "make=merge_data.groupby(['make_name'], as_index=False).agg(\n",
    "    total_vehicle=('vehicle_id','count')).sort_values(['total_vehicle'], ascending=[False])\n",
    "make_index=make.loc[[118, 122, 86, 76,40]]\n",
    "print(make_index)"
   ]
  },
  {
   "cell_type": "code",
   "execution_count": 52,
   "id": "0c685181",
   "metadata": {},
   "outputs": [
    {
     "data": {
      "text/plain": [
       "<Axes: xlabel='make_name', ylabel='total_vehicle'>"
      ]
     },
     "execution_count": 52,
     "metadata": {},
     "output_type": "execute_result"
    },
    {
     "data": {
      "image/png": "[encoded data removed]",
      "text/plain": [
       "<Figure size 640x480 with 1 Axes>"
      ]
     },
     "metadata": {},
     "output_type": "display_data"
    }
   ],
   "source": [
    "# graph of fist five most theft vehicle name\n",
    "sns.barplot(data=make_index, x='make_name', y='total_vehicle',  palette='Oranges')"
   ]
  },
  {
   "cell_type": "markdown",
   "id": "db19535c",
   "metadata": {},
   "source": [
    "#### Toyota is the most theft vehicle name"
   ]
  },
  {
   "cell_type": "code",
   "execution_count": 53,
   "id": "b41b74d8",
   "metadata": {},
   "outputs": [
    {
     "name": "stdout",
     "output_type": "stream",
     "text": [
      "               vehicle_type  total_vehicle\n",
      "19             Stationwagon            945\n",
      "16                   Saloon            851\n",
      "7                 Hatchback            644\n",
      "22                  Trailer            582\n",
      "24                  Utility            466\n",
      "15                 Roadbike            297\n",
      "13                    Moped            187\n",
      "10                Light Van            154\n",
      "2              Boat Trailer            105\n",
      "23          Trailer - Heavy             90\n",
      "4                   Caravan             44\n",
      "14              Other Truck             42\n",
      "18               Sports Car             40\n",
      "25                  unknown             26\n",
      "6           Flat Deck Truck             17\n",
      "11      Mobile Home - Light             15\n",
      "5               Convertible             12\n",
      "3      Cab and Chassis Only              8\n",
      "8                 Heavy Van              7\n",
      "9                 Light Bus              6\n",
      "0       All Terrain Vehicle              5\n",
      "20                  Tractor              4\n",
      "12           Mobile Machine              2\n",
      "21               Trail Bike              2\n",
      "1         Articulated Truck              1\n",
      "17  Special Purpose Vehicle              1\n"
     ]
    }
   ],
   "source": [
    "# checking stolen vehicle_type\n",
    "vehicle_type=merge_data.groupby(['vehicle_type'], as_index=False).agg(\n",
    "    total_vehicle=('vehicle_id','count')).sort_values(['total_vehicle'], ascending=[False])\n",
    "print(vehicle_type)"
   ]
  },
  {
   "cell_type": "code",
   "execution_count": 54,
   "id": "129e773f",
   "metadata": {},
   "outputs": [
    {
     "data": {
      "text/plain": [
       "<Axes: xlabel='vehicle_type', ylabel='total_vehicle'>"
      ]
     },
     "execution_count": 54,
     "metadata": {},
     "output_type": "execute_result"
    },
    {
     "data": {
      "image/png": "[encoded data removed]",
      "text/plain": [
       "<Figure size 1300x700 with 1 Axes>"
      ]
     },
     "metadata": {},
     "output_type": "display_data"
    }
   ],
   "source": [
    "# selection of first ten most theft vehicle_type\n",
    "vehicle_type_index=vehicle_type.loc[[19, 16, 7, 22,24,15,13,10,2,23]]\n",
    "\n",
    "# graph of fist ten most theft vehicle_type\n",
    "plt.figure(figsize=[13,7])\n",
    "plt.xticks(rotation=45)\n",
    "sns.barplot(data=vehicle_type_index, y='total_vehicle', x='vehicle_type')"
   ]
  },
  {
   "cell_type": "markdown",
   "id": "1e4cd300",
   "metadata": {},
   "source": [
    "#### Stationwagon is the most theft vehicle type"
   ]
  },
  {
   "cell_type": "code",
   "execution_count": 55,
   "id": "ff6bed38",
   "metadata": {},
   "outputs": [
    {
     "name": "stdout",
     "output_type": "stream",
     "text": [
      "181\n"
     ]
    }
   ],
   "source": [
    "# total number of days\n",
    "total_days=(merge_data['date'].max()-merge_data['date'].min()).days\n",
    "print(total_days)"
   ]
  },
  {
   "cell_type": "code",
   "execution_count": 56,
   "id": "ff560cf7",
   "metadata": {},
   "outputs": [
    {
     "name": "stdout",
     "output_type": "stream",
     "text": [
      "                region  total_vehicle\n",
      "0             Auckland           1638\n",
      "2           Canterbury            660\n",
      "1        Bay of Plenty            446\n",
      "12          Wellington            420\n",
      "11             Waikato            371\n",
      "7            Northland            234\n",
      "3             Gisborne            176\n",
      "5   Manawatū-Whanganui            139\n",
      "8                Otago            139\n",
      "10            Taranaki            112\n",
      "4          Hawke's Bay            100\n",
      "6               Nelson             92\n",
      "9            Southland             26\n"
     ]
    }
   ],
   "source": [
    "# total_vehicle theft in each region\n",
    "vehicle_stolen=merge_data.groupby(['region'], as_index=False).agg(\n",
    "    total_vehicle=('vehicle_id', 'count')).sort_values(['total_vehicle'], ascending=[False])\n",
    "print(vehicle_stolen)"
   ]
  },
  {
   "cell_type": "code",
   "execution_count": 57,
   "id": "9e5fed05",
   "metadata": {},
   "outputs": [
    {
     "name": "stdout",
     "output_type": "stream",
     "text": [
      "                region  total_vehicle  average_vehicle_stolen\n",
      "0             Auckland           1638                     9.0\n",
      "2           Canterbury            660                     4.0\n",
      "1        Bay of Plenty            446                     2.0\n",
      "12          Wellington            420                     2.0\n",
      "11             Waikato            371                     2.0\n",
      "7            Northland            234                     1.0\n",
      "3             Gisborne            176                     1.0\n",
      "5   Manawatū-Whanganui            139                     1.0\n",
      "8                Otago            139                     1.0\n",
      "10            Taranaki            112                     1.0\n",
      "4          Hawke's Bay            100                     1.0\n",
      "6               Nelson             92                     1.0\n",
      "9            Southland             26                     0.0\n"
     ]
    }
   ],
   "source": [
    "# average number of vehicle_stolen per day in each region\n",
    "vehicle_stolen[\"average_vehicle_stolen\"]=round((vehicle_stolen['total_vehicle']) /(total_days))\n",
    "print(vehicle_stolen)"
   ]
  },
  {
   "cell_type": "code",
   "execution_count": 58,
   "id": "ca10d75b",
   "metadata": {},
   "outputs": [
    {
     "data": {
      "text/plain": [
       "[Text(0.5, 1.0, 'Average_vehicle_stolen_per_day_in_each_region')]"
      ]
     },
     "execution_count": 58,
     "metadata": {},
     "output_type": "execute_result"
    },
    {
     "data": {
      "image/png": "[encoded data removed]",
      "text/plain": [
       "<Figure size 600x500 with 1 Axes>"
      ]
     },
     "metadata": {},
     "output_type": "display_data"
    }
   ],
   "source": [
    "# graph for average_vehicle_stolen_per_day_in_each_region \n",
    "plt.figure(figsize=[6,5])\n",
    "sns.barplot(data=vehicle_stolen, y='region', x='average_vehicle_stolen').set(\n",
    "    title=\"Average_vehicle_stolen_per_day_in_each_region\")"
   ]
  },
  {
   "cell_type": "code",
   "execution_count": 59,
   "id": "4be511ad",
   "metadata": {},
   "outputs": [],
   "source": [
    "# total vehicle_stolen based on region and make_name\n",
    "make_details=merge_data.groupby(['region', 'make_name'] , as_index=False).agg(\n",
    "    total_vehicle=('vehicle_id', 'count')).sort_values(['total_vehicle'], ascending=False)"
   ]
  },
  {
   "cell_type": "code",
   "execution_count": 60,
   "id": "9ec09458",
   "metadata": {},
   "outputs": [
    {
     "name": "stdout",
     "output_type": "stream",
     "text": [
      "                 region make_name  total_vehicle\n",
      "85             Auckland    Toyota            273\n",
      "194          Canterbury    Toyota            136\n",
      "141       Bay of Plenty    Toyota             72\n",
      "478          Wellington    Toyota             54\n",
      "432             Waikato    Toyota             44\n",
      "318           Northland    Toyota             32\n",
      "217            Gisborne    Toyota             27\n",
      "350               Otago    Toyota             21\n",
      "264  Manawatū-Whanganui    Toyota             18\n",
      "288              Nelson    Toyota             16\n",
      "241         Hawke's Bay    Toyota             13\n",
      "392            Taranaki    Toyota              7\n",
      "365           Southland    Toyota              3\n"
     ]
    },
    {
     "data": {
      "text/plain": [
       "[Text(0.5, 1.0, 'Total toyota theft in each region')]"
      ]
     },
     "execution_count": 60,
     "metadata": {},
     "output_type": "execute_result"
    },
    {
     "data": {
      "image/png": "[encoded data removed]",
      "text/plain": [
       "<Figure size 600x600 with 1 Axes>"
      ]
     },
     "metadata": {},
     "output_type": "display_data"
    }
   ],
   "source": [
    "# selection of row with make_name\"Toyota\"\n",
    "toyota_stolen=make_details[make_details['make_name'].isin(['Toyota'])]\n",
    "print(toyota_stolen)\n",
    "\n",
    "# plotting graph of region against total toyota theft\n",
    "plt.figure(figsize=[6,6])\n",
    "sns.barplot(data=toyota_stolen, y='region', x='total_vehicle', palette='Reds').set(\n",
    "    title=\"Total toyota theft in each region\")"
   ]
  },
  {
   "cell_type": "code",
   "execution_count": null,
   "id": "420f5d47",
   "metadata": {},
   "outputs": [],
   "source": []
  }
 ],
 "metadata": {
  "kernelspec": {
   "display_name": "Python 3 (ipykernel)",
   "language": "python",
   "name": "python3"
  },
  "language_info": {
   "codemirror_mode": {
    "name": "ipython",
    "version": 3
   },
   "file_extension": ".py",
   "mimetype": "text/x-python",
   "name": "python",
   "nbconvert_exporter": "python",
   "pygments_lexer": "ipython3",
   "version": "3.10.4"
  }
 },
 "nbformat": 4,
 "nbformat_minor": 5
}
